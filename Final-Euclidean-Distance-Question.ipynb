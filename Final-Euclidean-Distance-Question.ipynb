{
 "cells": [
  {
   "cell_type": "markdown",
   "metadata": {},
   "source": [
    "# Done, do not touch this"
   ]
  },
  {
   "cell_type": "code",
   "execution_count": 19,
   "metadata": {},
   "outputs": [
    {
     "name": "stdout",
     "output_type": "stream",
     "text": [
      "enter the name of the file you want to use: poetry_lines.txt\n",
      "enter your own poetry: Whose forest are these I know\n",
      "Euclidean distance results:\n",
      "William Wordsworth : 3.605551275463989\n",
      "William Shakespeare : 3.4641016151377544\n",
      "Robert Frost : 2.0\n",
      "The closest poem is:\n",
      "Robert Frost :  Whose woods these are I think I know\n"
     ]
    }
   ],
   "source": [
    "#Asking for file name and Users poetry.\n",
    "file_name = input('enter the name of the file you want to use: ')\n",
    "user_poetry = input('enter your own poetry: ')\n",
    "\n",
    "#Opening the file in read mode and using readlines to list the lines.\n",
    "open_file = open(file_name, 'r')\n",
    "read_file = open_file.readlines()\n",
    "\n",
    "#converting list to dictionary\n",
    "big_dict = {}\n",
    "for lines in read_file:\n",
    "    each_line = lines.split(':')\n",
    "    poet = each_line[0]\n",
    "    poem = each_line[1]\n",
    "    big_dict[poet] = poem\n",
    "\n",
    "#constructing nested dictionary\n",
    "small_dict = {}\n",
    "for key,value in big_dict.items():\n",
    "    words = value.split()\n",
    "    count_dict ={}\n",
    "    for word in words:\n",
    "        count_dict[word] = count_dict.get(word,0) + 1\n",
    "        \n",
    "    small_dict[key] = count_dict\n",
    "    \n",
    "#Making dictionary for user input\n",
    "user_dict = {}\n",
    "for word in user_poetry.split():\n",
    "    if not word in user_dict:\n",
    "        count = user_poetry.count(word)\n",
    "        user_dict[word] = count\n",
    "    \n",
    "# Calculating euclidean distance\n",
    "import math\n",
    "result_dict = {}\n",
    "dist = 0\n",
    "\n",
    "for key,values in small_dict.items():\n",
    "    dist=0\n",
    "    new_user_dict = user_dict.copy()\n",
    "#     print(values)\n",
    "    for word in values:\n",
    "        if word in new_user_dict:\n",
    "            dist = dist + (values[word] - new_user_dict[word])**2\n",
    "            del new_user_dict[word]\n",
    "            \n",
    "        else:\n",
    "            dist = dist + values[word]**2\n",
    "    for word in new_user_dict:\n",
    "        dist = dist + new_user_dict[word]**2\n",
    "        \n",
    "#Creating a dictionary of euclidean distance respective to poets name\n",
    "    Euclidean_distance = math.sqrt(dist)\n",
    "    result_dict[key] = Euclidean_distance\n",
    "\n",
    "#Printing individual results for euclidean distance\n",
    "print('Euclidean distance results:')\n",
    "for key,value in result_dict.items():\n",
    "    print(key,':',value)\n",
    "    \n",
    "#finding the closest poem which will be the one with shortest euclidean distance\n",
    "closest_poet = min(result_dict, key = result_dict.get)\n",
    "print('The closest poem is:')\n",
    "print(closest_poet,':',big_dict[closest_poet])"
   ]
  }
 ],
 "metadata": {
  "kernelspec": {
   "display_name": "Python 3",
   "language": "python",
   "name": "python3"
  },
  "language_info": {
   "codemirror_mode": {
    "name": "ipython",
    "version": 3
   },
   "file_extension": ".py",
   "mimetype": "text/x-python",
   "name": "python",
   "nbconvert_exporter": "python",
   "pygments_lexer": "ipython3",
   "version": "3.8.3"
  }
 },
 "nbformat": 4,
 "nbformat_minor": 4
}
